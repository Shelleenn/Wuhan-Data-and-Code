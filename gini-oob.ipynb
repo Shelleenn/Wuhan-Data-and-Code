{
 "cells": [
  {
   "cell_type": "code",
   "execution_count": 84,
   "id": "45fd047a",
   "metadata": {},
   "outputs": [],
   "source": [
    "from pandas import DataFrame\n",
    "import pandas as pd\n",
    "import numpy as np\n",
    "from sklearn.metrics import r2_score\n",
    "from rfpimp import permutation_importances\n",
    "from sklearn.ensemble import RandomForestRegressor\n",
    "from sklearn.model_selection import cross_val_score\n",
    "from sklearn.metrics import mean_squared_error\n",
    "from sklearn.metrics import r2_score\n",
    "from sklearn.model_selection import train_test_split"
   ]
  },
  {
   "cell_type": "code",
   "execution_count": 218,
   "id": "0be29c76",
   "metadata": {},
   "outputs": [],
   "source": [
    "# 提取整列,参数：当前的数据路径和需要提取的列号\n",
    "def column(path,i):\n",
    "    df_li = path.values.tolist()\n",
    "    result = []\n",
    "    for s_li in df_li:\n",
    "        result.append(s_li[i])\n",
    "    return result"
   ]
  },
  {
   "cell_type": "code",
   "execution_count": 219,
   "id": "1a595d49",
   "metadata": {},
   "outputs": [],
   "source": [
    "#标准化\n",
    "def normalization(df,min,max):\n",
    "    sheet = []\n",
    "    for i in range(0,7397):\n",
    "        lie = []\n",
    "        for j in range(0,32):\n",
    "            if((j == 1)or(j == 6)or(j == 9)):\n",
    "                df[i][j] = (df[i][j] - min[j]) / (max[j] - min[j])\n",
    "            else:\n",
    "                df[i][j] = (max[j] - df[i][j])/(max[j] - min[j])\n",
    "            lie.append(df[i][j])\n",
    "        sheet.append(lie)\n",
    "    return sheet"
   ]
  },
  {
   "cell_type": "code",
   "execution_count": 220,
   "id": "ea810b28",
   "metadata": {},
   "outputs": [],
   "source": [
    "def r2(rf, X_train, y_train):\n",
    "    return r2_score(y_train, rf.predict(X_train))"
   ]
  },
  {
   "cell_type": "code",
   "execution_count": 221,
   "id": "97cff97b",
   "metadata": {},
   "outputs": [],
   "source": [
    "df = pd.read_excel('T5通勤时间.xlsx')\n",
    "# 最大值\n",
    "max = []\n",
    "# 这里数字需要修改\n",
    "for i in range(1,33):\n",
    "    a = column(df,i)\n",
    "    max.append(np.max(a))\n",
    "# 最小值\n",
    "min = []\n",
    "for i in range(1,33):\n",
    "    a = column(df,i)\n",
    "    min.append(np.min(a))\n"
   ]
  },
  {
   "cell_type": "code",
   "execution_count": 222,
   "id": "17fe6a2c",
   "metadata": {},
   "outputs": [],
   "source": [
    "sheet1 = []\n",
    "name = ['社会治安', '交通秩序', '消防安全隐患', '紧急避难场所', \n",
    "        '内涝积水', '自然灾害应对', '安全事故应对', '标志性建筑（特色建筑）',\n",
    "        '文化设施', '历史街区保护', '历史建筑与传统民居的修复和利用', '游客吸引力',\n",
    "       '房价的可接受程度', '房租的可接受程度', '住房租赁市场的规范程度', '外来人口的友好性',\n",
    "       '弱势群体的关爱性', '最低生活保障水平', '保障性住房建设', '棚户区及城中村改造', \n",
    "       '人才引进政策', '工作机会', '市场环境', '科技创新环境',\n",
    "       '贷款方便', '小区垃圾分类', '物业管理', '街道卫生',\n",
    "       '窨井盖维护', '立杆管理', '路灯管理维护', '机动车停放管理']\n",
    "name = np.array(name)\n"
   ]
  },
  {
   "cell_type": "code",
   "execution_count": 223,
   "id": "6fc9eeae",
   "metadata": {},
   "outputs": [],
   "source": [
    "for num in range(0, 7397):\n",
    "    data = df.iloc[num].values \n",
    "    lie = data[1:33]\n",
    "    sheet1.append(lie)"
   ]
  },
  {
   "cell_type": "code",
   "execution_count": 224,
   "id": "ae335837",
   "metadata": {},
   "outputs": [
    {
     "data": {
      "text/plain": [
       "(7397, 32)"
      ]
     },
     "execution_count": 224,
     "metadata": {},
     "output_type": "execute_result"
    }
   ],
   "source": [
    "data = np.array(sheet1)\n",
    "data.shape"
   ]
  },
  {
   "cell_type": "code",
   "execution_count": 225,
   "id": "939f997e",
   "metadata": {},
   "outputs": [],
   "source": [
    "data = normalization(data,min,max)\n"
   ]
  },
  {
   "cell_type": "code",
   "execution_count": 226,
   "id": "fd3fc581",
   "metadata": {},
   "outputs": [
    {
     "name": "stderr",
     "output_type": "stream",
     "text": [
      "C:\\Users\\Xiaoling Zhang\\.conda\\envs\\test_env\\lib\\site-packages\\sklearn\\utils\\fixes.py:230: DeprecationWarning: distutils Version classes are deprecated. Use packaging.version instead.\n",
      "  if _joblib.__version__ >= LooseVersion('0.12'):\n"
     ]
    },
    {
     "data": {
      "text/plain": [
       "RandomForestRegressor(bootstrap=True, criterion='mse', max_depth=None,\n",
       "                      max_features='auto', max_leaf_nodes=None,\n",
       "                      min_impurity_decrease=0.0, min_impurity_split=None,\n",
       "                      min_samples_leaf=1, min_samples_split=2,\n",
       "                      min_weight_fraction_leaf=0.0, n_estimators=100, n_jobs=-1,\n",
       "                      oob_score=True, random_state=42, verbose=0,\n",
       "                      warm_start=False)"
      ]
     },
     "execution_count": 226,
     "metadata": {},
     "output_type": "execute_result"
    }
   ],
   "source": [
    "data = np.array(data)\n",
    "data = pd.DataFrame(data, columns = name)\n",
    "\n",
    "\n",
    "target = column(df,33)\n",
    "target = np.array(target)\n",
    "rf = RandomForestRegressor(n_estimators = 100,n_jobs = -1,oob_score = True,bootstrap = True,random_state = 42)\n",
    "rf.fit(data, target)"
   ]
  },
  {
   "cell_type": "code",
   "execution_count": 227,
   "id": "a163d6bb",
   "metadata": {},
   "outputs": [
    {
     "name": "stdout",
     "output_type": "stream",
     "text": [
      "GINI\n",
      "{'社会治安': 0.0005909845082361845, '交通秩序': 0.027372898424669365, '消防安全隐患': 0.006016902602996257, '紧急避难场所': 0.006134352292664414, '内涝积水': 0.001282804384355501, '自然灾害应对': 0.004449883566253014, '安全事故应对': 0.26211233245004717, '标志性建筑（特色建筑）': 0.0076354741370101694, '文化设施': 0.001768745799404675, '历史街区保护': 0.5030241317341314, '历史建筑与传统民居的修复和利用': 0.011043564307333466, '游客吸引力': 0.006335938562576878, '房价的可接受程度': 0.022699972328040576, '房租的可接受程度': 0.009156490708497667, '住房租赁市场的规范程度': 0.004840594287265055, '外来人口的友好性': 0.010634400664090304, '弱势群体的关爱性': 0.0029603059833106927, '最低生活保障水平': 0.0028876163369540345, '保障性住房建设': 0.0075133656325793415, '棚户区及城中村改造': 0.0012266776776544582, '人才引进政策': 0.0018169029008310467, '工作机会': 0.002176853146767889, '市场环境': 0.0015470886253050405, '科技创新环境': 0.0009275929863184173, '贷款方便': 0.0008820219804305142, '小区垃圾分类': 0.003898886396943517, '物业管理': 0.024476701135867664, '街道卫生': 0.01160650026915469, '窨井盖维护': 0.03101250926757974, '立杆管理': 0.0013924260750151282, '路灯管理维护': 0.0025512535791491248, '机动车停放管理': 0.01802382724856652}\n"
     ]
    },
    {
     "name": "stderr",
     "output_type": "stream",
     "text": [
      "C:\\Users\\Xiaoling Zhang\\.conda\\envs\\test_env\\lib\\site-packages\\sklearn\\utils\\fixes.py:230: DeprecationWarning: distutils Version classes are deprecated. Use packaging.version instead.\n",
      "  if _joblib.__version__ >= LooseVersion('0.12'):\n"
     ]
    }
   ],
   "source": [
    "print('GINI')\n",
    "gini=dict(zip(list(name),list(rf.feature_importances_)))\n",
    "print(gini)"
   ]
  },
  {
   "cell_type": "code",
   "execution_count": 228,
   "id": "2f307351",
   "metadata": {},
   "outputs": [],
   "source": [
    "target = pd.DataFrame(target)\n",
    "#target"
   ]
  },
  {
   "cell_type": "code",
   "execution_count": 229,
   "id": "b6e7b092",
   "metadata": {},
   "outputs": [
    {
     "name": "stdout",
     "output_type": "stream",
     "text": [
      "OOB\n"
     ]
    },
    {
     "name": "stderr",
     "output_type": "stream",
     "text": [
      "C:\\Users\\Xiaoling Zhang\\.conda\\envs\\test_env\\lib\\site-packages\\sklearn\\utils\\fixes.py:230: DeprecationWarning: distutils Version classes are deprecated. Use packaging.version instead.\n",
      "  if _joblib.__version__ >= LooseVersion('0.12'):\n",
      "C:\\Users\\Xiaoling Zhang\\.conda\\envs\\test_env\\lib\\site-packages\\sklearn\\utils\\fixes.py:230: DeprecationWarning: distutils Version classes are deprecated. Use packaging.version instead.\n",
      "  if _joblib.__version__ >= LooseVersion('0.12'):\n",
      "C:\\Users\\Xiaoling Zhang\\.conda\\envs\\test_env\\lib\\site-packages\\sklearn\\utils\\fixes.py:230: DeprecationWarning: distutils Version classes are deprecated. Use packaging.version instead.\n",
      "  if _joblib.__version__ >= LooseVersion('0.12'):\n",
      "C:\\Users\\Xiaoling Zhang\\.conda\\envs\\test_env\\lib\\site-packages\\sklearn\\utils\\fixes.py:230: DeprecationWarning: distutils Version classes are deprecated. Use packaging.version instead.\n",
      "  if _joblib.__version__ >= LooseVersion('0.12'):\n",
      "C:\\Users\\Xiaoling Zhang\\.conda\\envs\\test_env\\lib\\site-packages\\sklearn\\utils\\fixes.py:230: DeprecationWarning: distutils Version classes are deprecated. Use packaging.version instead.\n",
      "  if _joblib.__version__ >= LooseVersion('0.12'):\n",
      "C:\\Users\\Xiaoling Zhang\\.conda\\envs\\test_env\\lib\\site-packages\\sklearn\\utils\\fixes.py:230: DeprecationWarning: distutils Version classes are deprecated. Use packaging.version instead.\n",
      "  if _joblib.__version__ >= LooseVersion('0.12'):\n",
      "C:\\Users\\Xiaoling Zhang\\.conda\\envs\\test_env\\lib\\site-packages\\sklearn\\utils\\fixes.py:230: DeprecationWarning: distutils Version classes are deprecated. Use packaging.version instead.\n",
      "  if _joblib.__version__ >= LooseVersion('0.12'):\n",
      "C:\\Users\\Xiaoling Zhang\\.conda\\envs\\test_env\\lib\\site-packages\\sklearn\\utils\\fixes.py:230: DeprecationWarning: distutils Version classes are deprecated. Use packaging.version instead.\n",
      "  if _joblib.__version__ >= LooseVersion('0.12'):\n",
      "C:\\Users\\Xiaoling Zhang\\.conda\\envs\\test_env\\lib\\site-packages\\sklearn\\utils\\fixes.py:230: DeprecationWarning: distutils Version classes are deprecated. Use packaging.version instead.\n",
      "  if _joblib.__version__ >= LooseVersion('0.12'):\n",
      "C:\\Users\\Xiaoling Zhang\\.conda\\envs\\test_env\\lib\\site-packages\\sklearn\\utils\\fixes.py:230: DeprecationWarning: distutils Version classes are deprecated. Use packaging.version instead.\n",
      "  if _joblib.__version__ >= LooseVersion('0.12'):\n",
      "C:\\Users\\Xiaoling Zhang\\.conda\\envs\\test_env\\lib\\site-packages\\sklearn\\utils\\fixes.py:230: DeprecationWarning: distutils Version classes are deprecated. Use packaging.version instead.\n",
      "  if _joblib.__version__ >= LooseVersion('0.12'):\n",
      "C:\\Users\\Xiaoling Zhang\\.conda\\envs\\test_env\\lib\\site-packages\\sklearn\\utils\\fixes.py:230: DeprecationWarning: distutils Version classes are deprecated. Use packaging.version instead.\n",
      "  if _joblib.__version__ >= LooseVersion('0.12'):\n",
      "C:\\Users\\Xiaoling Zhang\\.conda\\envs\\test_env\\lib\\site-packages\\sklearn\\utils\\fixes.py:230: DeprecationWarning: distutils Version classes are deprecated. Use packaging.version instead.\n",
      "  if _joblib.__version__ >= LooseVersion('0.12'):\n",
      "C:\\Users\\Xiaoling Zhang\\.conda\\envs\\test_env\\lib\\site-packages\\sklearn\\utils\\fixes.py:230: DeprecationWarning: distutils Version classes are deprecated. Use packaging.version instead.\n",
      "  if _joblib.__version__ >= LooseVersion('0.12'):\n",
      "C:\\Users\\Xiaoling Zhang\\.conda\\envs\\test_env\\lib\\site-packages\\sklearn\\utils\\fixes.py:230: DeprecationWarning: distutils Version classes are deprecated. Use packaging.version instead.\n",
      "  if _joblib.__version__ >= LooseVersion('0.12'):\n",
      "C:\\Users\\Xiaoling Zhang\\.conda\\envs\\test_env\\lib\\site-packages\\sklearn\\utils\\fixes.py:230: DeprecationWarning: distutils Version classes are deprecated. Use packaging.version instead.\n",
      "  if _joblib.__version__ >= LooseVersion('0.12'):\n",
      "C:\\Users\\Xiaoling Zhang\\.conda\\envs\\test_env\\lib\\site-packages\\sklearn\\utils\\fixes.py:230: DeprecationWarning: distutils Version classes are deprecated. Use packaging.version instead.\n",
      "  if _joblib.__version__ >= LooseVersion('0.12'):\n",
      "C:\\Users\\Xiaoling Zhang\\.conda\\envs\\test_env\\lib\\site-packages\\sklearn\\utils\\fixes.py:230: DeprecationWarning: distutils Version classes are deprecated. Use packaging.version instead.\n",
      "  if _joblib.__version__ >= LooseVersion('0.12'):\n",
      "C:\\Users\\Xiaoling Zhang\\.conda\\envs\\test_env\\lib\\site-packages\\sklearn\\utils\\fixes.py:230: DeprecationWarning: distutils Version classes are deprecated. Use packaging.version instead.\n",
      "  if _joblib.__version__ >= LooseVersion('0.12'):\n",
      "C:\\Users\\Xiaoling Zhang\\.conda\\envs\\test_env\\lib\\site-packages\\sklearn\\utils\\fixes.py:230: DeprecationWarning: distutils Version classes are deprecated. Use packaging.version instead.\n",
      "  if _joblib.__version__ >= LooseVersion('0.12'):\n",
      "C:\\Users\\Xiaoling Zhang\\.conda\\envs\\test_env\\lib\\site-packages\\sklearn\\utils\\fixes.py:230: DeprecationWarning: distutils Version classes are deprecated. Use packaging.version instead.\n",
      "  if _joblib.__version__ >= LooseVersion('0.12'):\n",
      "C:\\Users\\Xiaoling Zhang\\.conda\\envs\\test_env\\lib\\site-packages\\sklearn\\utils\\fixes.py:230: DeprecationWarning: distutils Version classes are deprecated. Use packaging.version instead.\n",
      "  if _joblib.__version__ >= LooseVersion('0.12'):\n",
      "C:\\Users\\Xiaoling Zhang\\.conda\\envs\\test_env\\lib\\site-packages\\sklearn\\utils\\fixes.py:230: DeprecationWarning: distutils Version classes are deprecated. Use packaging.version instead.\n",
      "  if _joblib.__version__ >= LooseVersion('0.12'):\n",
      "C:\\Users\\Xiaoling Zhang\\.conda\\envs\\test_env\\lib\\site-packages\\sklearn\\utils\\fixes.py:230: DeprecationWarning: distutils Version classes are deprecated. Use packaging.version instead.\n",
      "  if _joblib.__version__ >= LooseVersion('0.12'):\n",
      "C:\\Users\\Xiaoling Zhang\\.conda\\envs\\test_env\\lib\\site-packages\\sklearn\\utils\\fixes.py:230: DeprecationWarning: distutils Version classes are deprecated. Use packaging.version instead.\n",
      "  if _joblib.__version__ >= LooseVersion('0.12'):\n",
      "C:\\Users\\Xiaoling Zhang\\.conda\\envs\\test_env\\lib\\site-packages\\sklearn\\utils\\fixes.py:230: DeprecationWarning: distutils Version classes are deprecated. Use packaging.version instead.\n",
      "  if _joblib.__version__ >= LooseVersion('0.12'):\n",
      "C:\\Users\\Xiaoling Zhang\\.conda\\envs\\test_env\\lib\\site-packages\\sklearn\\utils\\fixes.py:230: DeprecationWarning: distutils Version classes are deprecated. Use packaging.version instead.\n",
      "  if _joblib.__version__ >= LooseVersion('0.12'):\n",
      "C:\\Users\\Xiaoling Zhang\\.conda\\envs\\test_env\\lib\\site-packages\\sklearn\\utils\\fixes.py:230: DeprecationWarning: distutils Version classes are deprecated. Use packaging.version instead.\n",
      "  if _joblib.__version__ >= LooseVersion('0.12'):\n",
      "C:\\Users\\Xiaoling Zhang\\.conda\\envs\\test_env\\lib\\site-packages\\sklearn\\utils\\fixes.py:230: DeprecationWarning: distutils Version classes are deprecated. Use packaging.version instead.\n",
      "  if _joblib.__version__ >= LooseVersion('0.12'):\n",
      "C:\\Users\\Xiaoling Zhang\\.conda\\envs\\test_env\\lib\\site-packages\\sklearn\\utils\\fixes.py:230: DeprecationWarning: distutils Version classes are deprecated. Use packaging.version instead.\n",
      "  if _joblib.__version__ >= LooseVersion('0.12'):\n",
      "C:\\Users\\Xiaoling Zhang\\.conda\\envs\\test_env\\lib\\site-packages\\sklearn\\utils\\fixes.py:230: DeprecationWarning: distutils Version classes are deprecated. Use packaging.version instead.\n",
      "  if _joblib.__version__ >= LooseVersion('0.12'):\n",
      "C:\\Users\\Xiaoling Zhang\\.conda\\envs\\test_env\\lib\\site-packages\\sklearn\\utils\\fixes.py:230: DeprecationWarning: distutils Version classes are deprecated. Use packaging.version instead.\n",
      "  if _joblib.__version__ >= LooseVersion('0.12'):\n"
     ]
    },
    {
     "name": "stdout",
     "output_type": "stream",
     "text": [
      "            Feature  Importance\n",
      "0            安全事故应对    0.220190\n",
      "1            历史街区保护    0.219684\n",
      "2              交通秩序    0.053086\n",
      "3              物业管理    0.037971\n",
      "4           机动车停放管理    0.032427\n",
      "5          房价的可接受程度    0.029381\n",
      "6             窨井盖维护    0.016462\n",
      "7          外来人口的友好性    0.016249\n",
      "8              街道卫生    0.014518\n",
      "9   历史建筑与传统民居的修复和利用    0.014329\n",
      "10      标志性建筑（特色建筑）    0.010661\n",
      "11            游客吸引力    0.008723\n",
      "12      住房租赁市场的规范程度    0.007151\n",
      "13          保障性住房建设    0.005831\n",
      "14           自然灾害应对    0.005168\n",
      "15           消防安全隐患    0.004853\n",
      "16           紧急避难场所    0.004374\n",
      "17         房租的可接受程度    0.003992\n",
      "18           小区垃圾分类    0.003764\n",
      "19           路灯管理维护    0.002422\n",
      "20         最低生活保障水平    0.001941\n",
      "21         弱势群体的关爱性    0.001585\n",
      "22             文化设施    0.000831\n",
      "23           人才引进政策    0.000831\n",
      "24             工作机会    0.000819\n",
      "25             内涝积水    0.000772\n",
      "26           科技创新环境    0.000424\n",
      "27             市场环境    0.000400\n",
      "28             社会治安    0.000393\n",
      "29             贷款方便    0.000255\n",
      "30             立杆管理    0.000193\n",
      "31        棚户区及城中村改造   -0.000036\n"
     ]
    },
    {
     "name": "stderr",
     "output_type": "stream",
     "text": [
      "C:\\Users\\Xiaoling Zhang\\.conda\\envs\\test_env\\lib\\site-packages\\sklearn\\utils\\fixes.py:230: DeprecationWarning: distutils Version classes are deprecated. Use packaging.version instead.\n",
      "  if _joblib.__version__ >= LooseVersion('0.12'):\n"
     ]
    }
   ],
   "source": [
    "print('OOB')\n",
    "\n",
    "\n",
    "perm_imp_rfpimp = permutation_importances(rf, data, target, r2)\n",
    "perm_imp_rfpimp.reset_index(drop = False, inplace = True)\n",
    "print(perm_imp_rfpimp)\n"
   ]
  },
  {
   "cell_type": "code",
   "execution_count": 230,
   "id": "73a04daa",
   "metadata": {
    "scrolled": true
   },
   "outputs": [
    {
     "name": "stderr",
     "output_type": "stream",
     "text": [
      "C:\\Users\\Xiaoling Zhang\\.conda\\envs\\test_env\\lib\\site-packages\\sklearn\\utils\\fixes.py:230: DeprecationWarning: distutils Version classes are deprecated. Use packaging.version instead.\n",
      "  if _joblib.__version__ >= LooseVersion('0.12'):\n",
      "C:\\Users\\Xiaoling Zhang\\.conda\\envs\\test_env\\lib\\site-packages\\sklearn\\utils\\fixes.py:230: DeprecationWarning: distutils Version classes are deprecated. Use packaging.version instead.\n",
      "  if _joblib.__version__ >= LooseVersion('0.12'):\n"
     ]
    },
    {
     "name": "stdout",
     "output_type": "stream",
     "text": [
      "MSE train: 148.4518, test: 152.5364\n",
      "R^2 train: 0.5404, test: 0.5271\n"
     ]
    }
   ],
   "source": [
    "X_train, X_test, y_train, y_test = train_test_split(data, target, test_size=0.6, random_state=1)\n",
    "y_train_pred = rf.predict(X_train)\n",
    "y_test_pred = rf.predict(X_test)\n",
    "print('MSE train: %.4f, test: %.4f' % (\n",
    "        mean_squared_error(y_train, y_train_pred),\n",
    "        mean_squared_error(y_test, y_test_pred)))\n",
    "print('R^2 train: %.4f, test: %.4f' % (\n",
    "        r2_score(y_train, y_train_pred),\n",
    "        r2_score(y_test, y_test_pred)))"
   ]
  },
  {
   "cell_type": "code",
   "execution_count": null,
   "id": "6bfce368",
   "metadata": {},
   "outputs": [],
   "source": []
  }
 ],
 "metadata": {
  "kernelspec": {
   "display_name": "Python 3 (ipykernel)",
   "language": "python",
   "name": "python3"
  },
  "language_info": {
   "codemirror_mode": {
    "name": "ipython",
    "version": 3
   },
   "file_extension": ".py",
   "mimetype": "text/x-python",
   "name": "python",
   "nbconvert_exporter": "python",
   "pygments_lexer": "ipython3",
   "version": "3.7.15"
  }
 },
 "nbformat": 4,
 "nbformat_minor": 5
}
